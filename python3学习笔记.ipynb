{
  "nbformat": 4,
  "nbformat_minor": 0,
  "metadata": {
    "colab": {
      "name": "python3学习笔记.ipynb",
      "provenance": [],
      "collapsed_sections": [],
      "include_colab_link": true
    },
    "kernelspec": {
      "name": "python3",
      "display_name": "Python 3"
    }
  },
  "cells": [
    {
      "cell_type": "markdown",
      "metadata": {
        "id": "view-in-github",
        "colab_type": "text"
      },
      "source": [
        "<a href=\"https://colab.research.google.com/github/yushuang823/python-learn/blob/master/python3%E5%AD%A6%E4%B9%A0%E7%AC%94%E8%AE%B0.ipynb\" target=\"_parent\"><img src=\"https://colab.research.google.com/assets/colab-badge.svg\" alt=\"Open In Colab\"/></a>"
      ]
    },
    {
      "cell_type": "markdown",
      "metadata": {
        "id": "is1xxlDIHjiJ",
        "colab_type": "text"
      },
      "source": [
        "python 环境检测"
      ]
    },
    {
      "cell_type": "code",
      "metadata": {
        "id": "7ALWztTKG_00",
        "colab_type": "code",
        "colab": {
          "base_uri": "https://localhost:8080/",
          "height": 35
        },
        "outputId": "69ce10df-f9aa-44d0-eb11-b581fefdc0f8"
      },
      "source": [
        "print('hello world!')"
      ],
      "execution_count": 70,
      "outputs": [
        {
          "output_type": "stream",
          "text": [
            "hello world!\n"
          ],
          "name": "stdout"
        }
      ]
    },
    {
      "cell_type": "markdown",
      "metadata": {
        "id": "IlaKhXtWHyYp",
        "colab_type": "text"
      },
      "source": [
        " **定义字符串**"
      ]
    },
    {
      "cell_type": "code",
      "metadata": {
        "id": "4IBBqqgWH5ak",
        "colab_type": "code",
        "colab": {}
      },
      "source": [
        "var = 'hello'\n",
        "var2 = 'world'\n",
        "print(var,var2)"
      ],
      "execution_count": 0,
      "outputs": []
    },
    {
      "cell_type": "markdown",
      "metadata": {
        "id": "Km5tIxJU1bwR",
        "colab_type": "text"
      },
      "source": [
        "字符串复制"
      ]
    },
    {
      "cell_type": "code",
      "metadata": {
        "id": "un94O4HL1hvJ",
        "colab_type": "code",
        "colab": {}
      },
      "source": [
        "# 字符串和数字相乘\n",
        "a = 'abc'\n",
        "# 将字符串重复指定次数并返回\n",
        "a = a * 2\n",
        "b = 'abc' *2\n",
        "print(b)\n",
        "print(a)\n"
      ],
      "execution_count": 0,
      "outputs": []
    },
    {
      "cell_type": "markdown",
      "metadata": {
        "id": "JuDNPw8sRMvB",
        "colab_type": "text"
      },
      "source": [
        "定义对象"
      ]
    },
    {
      "cell_type": "code",
      "metadata": {
        "id": "xfvLlJI7RUZf",
        "colab_type": "code",
        "colab": {}
      },
      "source": [
        "class Student(object):\n",
        "  def __init__(self,score,sex):\n",
        "    self.score = score\n",
        "    self.sex = sex\n",
        "  def run(self):\n",
        "    print('all student are running')\n",
        "\n",
        "jack = Student(99,'male')\n",
        "# 获取对象属性信息\n",
        "print(getattr(jack,'sex'))\n",
        "# 设置对象属性信息\n",
        "print(getattr(jack,'sex'))\n",
        "setattr(jack,'sex','famle')\n",
        "print(getattr(jack,'sex'))\n",
        "# 有无属性信息\n",
        "print(hasattr(jack,'score'))\n",
        "# print(getattr(jack,'number'))\n",
        "print(jack.number)"
      ],
      "execution_count": 0,
      "outputs": []
    },
    {
      "cell_type": "markdown",
      "metadata": {
        "id": "cEWN-ljtJPLw",
        "colab_type": "text"
      },
      "source": [
        "python数据类型 三种 整数、浮点数（小数）、复数"
      ]
    },
    {
      "cell_type": "code",
      "metadata": {
        "id": "VT_zqcsgJSOn",
        "colab_type": "code",
        "colab": {}
      },
      "source": [
        "# 所有整数都是int型,并且没有限制，可以是一个无限大的数值\n",
        "a = 123 ** 100 # 100次幂\n",
        "# 数字长度过大，可使用下划线作为分隔符\n",
        "c = 123_456_789\n",
        "# 二进制：0b开头  八进制：0o开头(0-7) 十六进制：0x开头（0—f)  只要输出的数字一定是以十进制显示的"
      ],
      "execution_count": 0,
      "outputs": []
    },
    {
      "cell_type": "markdown",
      "metadata": {
        "id": "fCynDBg9YH1O",
        "colab_type": "text"
      },
      "source": [
        "字符串"
      ]
    },
    {
      "cell_type": "code",
      "metadata": {
        "id": "DDOI3KYsYLB-",
        "colab_type": "code",
        "colab": {}
      },
      "source": [
        "# 字符串必须使用引号，可以是单引号 或者双引号，但不可以混着用\n",
        "s = 'hello'  \n",
        "s = \"hello\"\n",
        "# 长字符串使用三重引号来表示\n",
        "s = '''人之初,\n",
        "性本善,\n",
        "性相近,\n",
        "'''\n",
        "print(s)\n",
        "# 转义字符\n",
        "a = \"子曰：\\\"学而时习之！\\\"\"\n",
        "print(a)\n",
        "# 字符串进行相加\n",
        "a = 'abc' + 'bcd' + 'hh'\n",
        "print(a)\n",
        "b = 20\n",
        "print('b = ',b)\n",
        "print('abc','bcd')\n",
        "# 字符串只能与字符串进行拼接\n",
        "print('a = ' + a) #这种方法不常用"
      ],
      "execution_count": 0,
      "outputs": []
    },
    {
      "cell_type": "markdown",
      "metadata": {
        "id": "goOpw5jANyDd",
        "colab_type": "text"
      },
      "source": [
        ""
      ]
    },
    {
      "cell_type": "markdown",
      "metadata": {
        "id": "lrXRqlxUMkDy",
        "colab_type": "text"
      },
      "source": [
        "**变量标识符** 定义函数 变量 类"
      ]
    },
    {
      "cell_type": "code",
      "metadata": {
        "id": "8Jfe7sS_MwWK",
        "colab_type": "code",
        "colab": {}
      },
      "source": [
        "print('hello,word!')\n",
        "import math\n",
        "print(math.ceil(32.3))\n",
        "print(math.floor(32.3))\n",
        "from math import sqrt\n",
        "print(sqrt(4))\n",
        "'hello,' + 'word!'\n",
        "print('hello,word!')\n",
        "print('hello,\\nword!')\n",
        "'hello,\\nword!'"
      ],
      "execution_count": 0,
      "outputs": []
    },
    {
      "cell_type": "code",
      "metadata": {
        "colab_type": "code",
        "id": "d4aGLob5C6X2",
        "colab": {}
      },
      "source": [
        "  \n"
      ],
      "execution_count": 0,
      "outputs": []
    },
    {
      "cell_type": "markdown",
      "metadata": {
        "id": "mHbBI1dIFfKF",
        "colab_type": "text"
      },
      "source": [
        "对象介绍"
      ]
    },
    {
      "cell_type": "code",
      "metadata": {
        "id": "qNWH10CUFhyb",
        "colab_type": "code",
        "colab": {}
      },
      "source": [
        "# 一切皆对象 python是一门面向对象的语言\n",
        "# 程序运行中，所有的数据（如：a = 123 b='123';整型123与字符串'123')都是储存在内存中的一小块儿区域，然后交给由CPU运行。\n",
        "# 对象就是内存中专门用来储存指定数据的一块区域\n",
        "# 对象实际上就是一个容器，专门用来储存数据\n",
        "# 像之前所学的数值，字符串，布尔值，None都是对象\n",
        "# 对象的结构\n",
        "  # -每个对象都要保存三种数据\n",
        "  # id:每个对象都有唯一的Id; 对象的Id就像人的身份证一样； 可以通过Id()函数查看对象的Id； id是由解析器生成的，id就是对象的内存地址； 对象一旦创建则他的ID永远不可改变。\n",
        "  # type：用来标识对象所属类型，类型决定了对象有哪些功能； 通过type函数查看对象的类型； python是一门强类型语言，对象一旦创建类型便不可更改。\n",
        "  # value：值就是对象中储存的具体数据； 对象分为两类，可变对象和不可变对象(str true false none int float )\n",
        "\n"
      ],
      "execution_count": 0,
      "outputs": []
    },
    {
      "cell_type": "markdown",
      "metadata": {
        "id": "LFcjpwjvwroy",
        "colab_type": "text"
      },
      "source": [
        "变量和对象"
      ]
    },
    {
      "cell_type": "code",
      "metadata": {
        "id": "uN5LuSBgwxqN",
        "colab_type": "code",
        "colab": {}
      },
      "source": [
        "a = 123  #123是一个对象，对象里包含ID type value  变量a的值是对象123的id地址  如果打印a则通过id地址找到对象 并输出value\n",
        "b = a   #将a的值(id地址)赋给b，则b的值亦为对象123的id地址\n",
        "a = 456  #变量重新赋值时，变量中保存的对象ID才会改变\n",
        "# 对象并没有直接保存在变量中\n",
        "# 变量中储存的并不是对象的值，而是对象的id(内存地址)；当使用变量时 实际上是通过id地址查找对象\n",
        "# 变量中保存的对象地址，只有在为变量重新赋值时才会改变\n",
        "# 变量之间时相互独立的，修改一个变量不会影响另一个变量"
      ],
      "execution_count": 0,
      "outputs": []
    },
    {
      "cell_type": "markdown",
      "metadata": {
        "id": "TmQjXlUjn7xK",
        "colab_type": "text"
      },
      "source": [
        "占位符  ； %s:在字符串中表示任意字符 ；  %f:浮点数占位符 %.1f表示小数点后一位 %d:整数占位符"
      ]
    },
    {
      "cell_type": "code",
      "metadata": {
        "id": "fvXuAZHRn_Gy",
        "colab_type": "code",
        "colab": {}
      },
      "source": [
        "b = 'hello %s'%'才才'\n",
        "print(b)\n",
        "c = 'hello %s 你好 %s'%('caicai','才才')\n",
        "a = 'hello %s'%123\n",
        "print(c,a)\n",
        "# %3s 字符串的长度限制在3位,如果不够则用空格补充，若超过则不需在管 %3.5s 表示字符串的长度限制在3-5之间。\n",
        "d = 'hello %3s'%'ab'\n",
        "g = 'hello %3s'%'abfdaf'\n",
        "e = 'hello %3.5s'%'abcdhf'\n",
        "print(d,g,e)\n",
        "h = 'hello %f'%123.4\n",
        "print(h)\n",
        "l = 'hello %.1f'%123.45 # 小数点四舍五入\n",
        "p = 'hello %.2f'%123.349\n",
        "print(l,p)\n",
        "o = 'hello %d'%123.44\n",
        "print(o)\n",
        "# 四种格式化字符串\n",
        "print('a = ',a)\n",
        "print('a = %s'%a)\n",
        "print('b = %s'%b)\n",
        "print(f'a = {a}')\n",
        "c = f'hello {a}{b}'\n",
        "print(c)\n",
        "# 使用四种方式输出 欢迎 xxx 光临cai\n",
        "name = 'jack'\n",
        "# 拼串\n",
        "print('欢迎' + name + '光临')\n",
        "print('欢迎 %s 光临'%name)\n",
        "print('欢迎',name,'光临')\n",
        "print(f'欢迎 {name} 光临')\n"
      ],
      "execution_count": 0,
      "outputs": []
    },
    {
      "cell_type": "markdown",
      "metadata": {
        "id": "KRuUtFBG8F-4",
        "colab_type": "text"
      },
      "source": [
        ""
      ]
    },
    {
      "cell_type": "markdown",
      "metadata": {
        "id": "GB7rzSVQ8Gq7",
        "colab_type": "text"
      },
      "source": [
        "布尔值 True False 布尔值也属于整型，True就相当于1，False 就是相当于0;\n",
        "None(空值）用来表示不存在"
      ]
    },
    {
      "cell_type": "code",
      "metadata": {
        "id": "opfJXzWQ8OXY",
        "colab_type": "code",
        "colab": {}
      },
      "source": [
        "数值类型：\n",
        "1 数值：整型（又包含布尔值）  浮点型   3复数型\n",
        "2 字符串\n",
        "3 空值\n",
        "\n",
        "a = False\n",
        "b = True\n",
        "print('a = ',a)\n",
        "print(1 + True)\n",
        "b = None\n",
        "print(b)"
      ],
      "execution_count": 0,
      "outputs": []
    },
    {
      "cell_type": "markdown",
      "metadata": {
        "id": "qIgumWb1BWt-",
        "colab_type": "text"
      },
      "source": [
        "类型检查"
      ]
    },
    {
      "cell_type": "code",
      "metadata": {
        "id": "cmgAwSGzBb36",
        "colab_type": "code",
        "colab": {}
      },
      "source": [
        "a = 123\n",
        "b = '123'\n",
        "print(type(a))\n",
        "print(type(b))\n",
        "print(type(True))\n",
        "print(type(None))\n",
        "print(type(0.3))\n",
        "# type 返回一个值 用变量接收\n",
        "a = type('123')\n",
        "print(a)"
      ],
      "execution_count": 0,
      "outputs": []
    },
    {
      "cell_type": "markdown",
      "metadata": {
        "id": "lIdIq0074nGj",
        "colab_type": "text"
      },
      "source": [
        "类型转换"
      ]
    },
    {
      "cell_type": "code",
      "metadata": {
        "id": "c7Q1Z95y4pmo",
        "colab_type": "code",
        "colab": {
          "base_uri": "https://localhost:8080/",
          "height": 89
        },
        "outputId": "4d9035c9-c8de-4c37-cf3c-d49b299f5ac4"
      },
      "source": [
        "# 类型转换的四个函数：int() float() str() bool()\n",
        "a = True\n",
        "a = int(a)\n",
        "a = '124'\n",
        "a = int(a)\n",
        "a = 12.3\n",
        "a = int(a)\n",
        "a = True\n",
        "a = float(a)\n",
        "a = '12.3'\n",
        "a = float(a)\n",
        "a = 123\n",
        "a = str(a)\n",
        "print('a=',a)\n",
        "print('a的类型：',type(a))\n",
        "b = 454\n",
        "print('hello' + str(b))\n",
        "# true--'true'\n",
        "# false--'false'\n",
        "# bool值可以将任何对象转化为布尔值；其中表示为空(false):0,'',none.....其余为TRUE\n",
        "a = 1\n",
        "a = bool(a)\n",
        "print('a的类型：',type(a))"
      ],
      "execution_count": 30,
      "outputs": [
        {
          "output_type": "stream",
          "text": [
            "a= 123\n",
            "a的类型： <class 'str'>\n",
            "hello454\n",
            "a的类型： <class 'bool'>\n"
          ],
          "name": "stdout"
        }
      ]
    }
  ]
}